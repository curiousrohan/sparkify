{
 "cells": [
  {
   "cell_type": "markdown",
   "metadata": {},
   "source": [
    "# Sparkify Project Workspace\n",
    "This workspace contains a tiny subset (128MB) of the full dataset available (12GB). Feel free to use this workspace to build your project, or to explore a smaller subset with Spark before deploying your cluster on the cloud. Instructions for setting up your Spark cluster is included in the last lesson of the Extracurricular Spark Course content.\n",
    "\n",
    "You can follow the steps below to guide your data analysis and model building portion of this project."
   ]
  },
  {
   "cell_type": "code",
   "execution_count": 1,
   "metadata": {},
   "outputs": [],
   "source": [
    "# import libraries\n",
    "import pandas as pd\n",
    "import numpy as np\n",
    "from pyspark.sql import SparkSession\n",
    "from pyspark.sql.functions import udf, avg, count\n",
    "from pyspark.ml.feature import RegexTokenizer, CountVectorizer, IDF, StringIndexer, VectorAssembler, StandardScaler\n",
    "from pyspark.ml.classification import LogisticRegression, DecisionTreeClassifier, RandomForestClassifier, NaiveBayes, GBTClassifier\n",
    "from pyspark.ml import Pipeline\n",
    "from pyspark.ml.tuning import ParamGridBuilder, CrossValidator\n",
    "from pyspark.ml.evaluation import MulticlassClassificationEvaluator\n",
    "import datetime\n",
    "import matplotlib.pyplot as plt\n",
    "%matplotlib inline\n"
   ]
  },
  {
   "cell_type": "code",
   "execution_count": 2,
   "metadata": {},
   "outputs": [],
   "source": [
    "# create a Spark session\n",
    "spark = SparkSession.builder \\\n",
    "    .master('local') \\\n",
    "    .appName('Sparkify') \\\n",
    "    .getOrCreate()"
   ]
  },
  {
   "cell_type": "markdown",
   "metadata": {},
   "source": [
    "# Load and Clean Dataset\n",
    "In this workspace, the mini-dataset file is `mini_sparkify_event_data.json`. Load and clean the dataset, checking for invalid or missing data - for example, records without userids or sessionids. "
   ]
  },
  {
   "cell_type": "code",
   "execution_count": 3,
   "metadata": {},
   "outputs": [],
   "source": [
    "sparkify_data = 'mini_sparkify_event_data.json'\n",
    "data = spark.read.json(sparkify_data)"
   ]
  },
  {
   "cell_type": "code",
   "execution_count": 4,
   "metadata": {},
   "outputs": [
    {
     "name": "stdout",
     "output_type": "stream",
     "text": [
      "root\n",
      " |-- artist: string (nullable = true)\n",
      " |-- auth: string (nullable = true)\n",
      " |-- firstName: string (nullable = true)\n",
      " |-- gender: string (nullable = true)\n",
      " |-- itemInSession: long (nullable = true)\n",
      " |-- lastName: string (nullable = true)\n",
      " |-- length: double (nullable = true)\n",
      " |-- level: string (nullable = true)\n",
      " |-- location: string (nullable = true)\n",
      " |-- method: string (nullable = true)\n",
      " |-- page: string (nullable = true)\n",
      " |-- registration: long (nullable = true)\n",
      " |-- sessionId: long (nullable = true)\n",
      " |-- song: string (nullable = true)\n",
      " |-- status: long (nullable = true)\n",
      " |-- ts: long (nullable = true)\n",
      " |-- userAgent: string (nullable = true)\n",
      " |-- userId: string (nullable = true)\n",
      "\n"
     ]
    }
   ],
   "source": [
    "#Checking Database Schema\n",
    "data.printSchema()"
   ]
  },
  {
   "cell_type": "code",
   "execution_count": 5,
   "metadata": {},
   "outputs": [
    {
     "data": {
      "text/plain": [
       "[Row(artist='Martha Tilston', auth='Logged In', firstName='Colin', gender='M', itemInSession=50, lastName='Freeman', length=277.89016, level='paid', location='Bakersfield, CA', method='PUT', page='NextSong', registration=1538173362000, sessionId=29, song='Rockpools', status=200, ts=1538352117000, userAgent='Mozilla/5.0 (Windows NT 6.1; WOW64; rv:31.0) Gecko/20100101 Firefox/31.0', userId='30'),\n",
       " Row(artist='Five Iron Frenzy', auth='Logged In', firstName='Micah', gender='M', itemInSession=79, lastName='Long', length=236.09424, level='free', location='Boston-Cambridge-Newton, MA-NH', method='PUT', page='NextSong', registration=1538331630000, sessionId=8, song='Canada', status=200, ts=1538352180000, userAgent='\"Mozilla/5.0 (Windows NT 6.1; WOW64) AppleWebKit/537.36 (KHTML, like Gecko) Chrome/37.0.2062.103 Safari/537.36\"', userId='9'),\n",
       " Row(artist='Adam Lambert', auth='Logged In', firstName='Colin', gender='M', itemInSession=51, lastName='Freeman', length=282.8273, level='paid', location='Bakersfield, CA', method='PUT', page='NextSong', registration=1538173362000, sessionId=29, song='Time For Miracles', status=200, ts=1538352394000, userAgent='Mozilla/5.0 (Windows NT 6.1; WOW64; rv:31.0) Gecko/20100101 Firefox/31.0', userId='30'),\n",
       " Row(artist='Enigma', auth='Logged In', firstName='Micah', gender='M', itemInSession=80, lastName='Long', length=262.71302, level='free', location='Boston-Cambridge-Newton, MA-NH', method='PUT', page='NextSong', registration=1538331630000, sessionId=8, song='Knocking On Forbidden Doors', status=200, ts=1538352416000, userAgent='\"Mozilla/5.0 (Windows NT 6.1; WOW64) AppleWebKit/537.36 (KHTML, like Gecko) Chrome/37.0.2062.103 Safari/537.36\"', userId='9'),\n",
       " Row(artist='Daft Punk', auth='Logged In', firstName='Colin', gender='M', itemInSession=52, lastName='Freeman', length=223.60771, level='paid', location='Bakersfield, CA', method='PUT', page='NextSong', registration=1538173362000, sessionId=29, song='Harder Better Faster Stronger', status=200, ts=1538352676000, userAgent='Mozilla/5.0 (Windows NT 6.1; WOW64; rv:31.0) Gecko/20100101 Firefox/31.0', userId='30')]"
      ]
     },
     "execution_count": 5,
     "metadata": {},
     "output_type": "execute_result"
    }
   ],
   "source": [
    "#Visualizing the first 5 records\n",
    "data.take(5)"
   ]
  },
  {
   "cell_type": "code",
   "execution_count": 6,
   "metadata": {},
   "outputs": [
    {
     "data": {
      "text/plain": [
       "286500"
      ]
     },
     "execution_count": 6,
     "metadata": {},
     "output_type": "execute_result"
    }
   ],
   "source": [
    "#Number of records present\n",
    "data.count()"
   ]
  },
  {
   "cell_type": "markdown",
   "metadata": {},
   "source": [
    "### Analysing Different rows for missing values"
   ]
  },
  {
   "cell_type": "code",
   "execution_count": 7,
   "metadata": {},
   "outputs": [
    {
     "name": "stdout",
     "output_type": "stream",
     "text": [
      "+-------+-----------------+\n",
      "|summary|           userId|\n",
      "+-------+-----------------+\n",
      "|  count|           286500|\n",
      "|   mean|59682.02278593872|\n",
      "| stddev|109091.9499991047|\n",
      "|    min|                 |\n",
      "|    max|               99|\n",
      "+-------+-----------------+\n",
      "\n"
     ]
    }
   ],
   "source": [
    "data.describe('userId').show()"
   ]
  },
  {
   "cell_type": "code",
   "execution_count": 8,
   "metadata": {},
   "outputs": [
    {
     "name": "stdout",
     "output_type": "stream",
     "text": [
      "+-------+-----------------+\n",
      "|summary|        sessionId|\n",
      "+-------+-----------------+\n",
      "|  count|           286500|\n",
      "|   mean|1041.526554973822|\n",
      "| stddev|726.7762634630741|\n",
      "|    min|                1|\n",
      "|    max|             2474|\n",
      "+-------+-----------------+\n",
      "\n"
     ]
    }
   ],
   "source": [
    "data.describe('sessionId').show()"
   ]
  },
  {
   "cell_type": "code",
   "execution_count": 9,
   "metadata": {},
   "outputs": [],
   "source": [
    "data_valid = data.dropna(how='any', subset=['userId', 'sessionId'])"
   ]
  },
  {
   "cell_type": "code",
   "execution_count": 10,
   "metadata": {},
   "outputs": [
    {
     "name": "stdout",
     "output_type": "stream",
     "text": [
      "+------+\n",
      "|userId|\n",
      "+------+\n",
      "|      |\n",
      "|    10|\n",
      "|   100|\n",
      "|100001|\n",
      "|100002|\n",
      "|100003|\n",
      "|100004|\n",
      "|100005|\n",
      "|100006|\n",
      "|100007|\n",
      "|100008|\n",
      "|100009|\n",
      "|100010|\n",
      "|100011|\n",
      "|100012|\n",
      "|100013|\n",
      "|100014|\n",
      "|100015|\n",
      "|100016|\n",
      "|100017|\n",
      "+------+\n",
      "only showing top 20 rows\n",
      "\n"
     ]
    }
   ],
   "source": [
    "data.select('userId').dropDuplicates().sort('userId').show()"
   ]
  },
  {
   "cell_type": "code",
   "execution_count": 11,
   "metadata": {},
   "outputs": [],
   "source": [
    "#Removing whitespace in UserID\n",
    "data_valid = data_valid.filter(data_valid.userId != '')"
   ]
  },
  {
   "cell_type": "code",
   "execution_count": 12,
   "metadata": {},
   "outputs": [
    {
     "data": {
      "text/plain": [
       "278154"
      ]
     },
     "execution_count": 12,
     "metadata": {},
     "output_type": "execute_result"
    }
   ],
   "source": [
    "#Dataset remaining \n",
    "data_valid.count()"
   ]
  },
  {
   "cell_type": "markdown",
   "metadata": {},
   "source": [
    "# Exploratory Data Analysis\n",
    "When you're working with the full dataset, perform EDA by loading a small subset of the data and doing basic manipulations within Spark. In this workspace, you are already provided a small subset of data you can explore.\n",
    "\n",
    "### Define Churn\n",
    "\n",
    "Once you've done some preliminary analysis, create a column `Churn` to use as the label for your model. I suggest using the `Cancellation Confirmation` events to define your churn, which happen for both paid and free users. As a bonus task, you can also look into the `Downgrade` events.\n",
    "\n",
    "### Explore Data\n",
    "Once you've defined churn, perform some exploratory data analysis to observe the behavior for users who stayed vs users who churned. You can start by exploring aggregates on these two groups of users, observing how much of a specific action they experienced per a certain time unit or number of songs played."
   ]
  },
  {
   "cell_type": "code",
   "execution_count": 13,
   "metadata": {},
   "outputs": [
    {
     "data": {
      "text/plain": [
       "[Row(page='About'),\n",
       " Row(page='Add Friend'),\n",
       " Row(page='Add to Playlist'),\n",
       " Row(page='Cancel'),\n",
       " Row(page='Cancellation Confirmation'),\n",
       " Row(page='Downgrade'),\n",
       " Row(page='Error'),\n",
       " Row(page='Help'),\n",
       " Row(page='Home'),\n",
       " Row(page='Logout'),\n",
       " Row(page='NextSong'),\n",
       " Row(page='Roll Advert'),\n",
       " Row(page='Save Settings'),\n",
       " Row(page='Settings'),\n",
       " Row(page='Submit Downgrade'),\n",
       " Row(page='Submit Upgrade'),\n",
       " Row(page='Thumbs Down'),\n",
       " Row(page='Thumbs Up'),\n",
       " Row(page='Upgrade')]"
      ]
     },
     "execution_count": 13,
     "metadata": {},
     "output_type": "execute_result"
    }
   ],
   "source": [
    "#Pages in Sparkify app\n",
    "data_valid.select('page').dropDuplicates().sort('page').collect()"
   ]
  },
  {
   "cell_type": "code",
   "execution_count": 14,
   "metadata": {},
   "outputs": [],
   "source": [
    "#Finding users who cancelled accounts\n",
    "user_churn = data_valid.filter(data_valid.page == 'Cancellation Confirmation').select('userId').dropDuplicates()\n",
    "user_churn_list = [(row['userId']) for row in user_churn.collect()]"
   ]
  },
  {
   "cell_type": "code",
   "execution_count": 15,
   "metadata": {},
   "outputs": [
    {
     "name": "stdout",
     "output_type": "stream",
     "text": [
      "52 Users Cancelled Accounts\n"
     ]
    }
   ],
   "source": [
    "print('{} Users Cancelled Accounts'.format(len(user_churn_list)))"
   ]
  },
  {
   "cell_type": "code",
   "execution_count": 16,
   "metadata": {},
   "outputs": [],
   "source": [
    "#Add a new column named Churn to the data set\n",
    "data = data_valid.withColumn('Churn', data_valid.userId.isin(user_churn_list).cast('int'))"
   ]
  },
  {
   "cell_type": "code",
   "execution_count": 17,
   "metadata": {},
   "outputs": [
    {
     "data": {
      "text/plain": [
       "[Row(artist='Martha Tilston', auth='Logged In', firstName='Colin', gender='M', itemInSession=50, lastName='Freeman', length=277.89016, level='paid', location='Bakersfield, CA', method='PUT', page='NextSong', registration=1538173362000, sessionId=29, song='Rockpools', status=200, ts=1538352117000, userAgent='Mozilla/5.0 (Windows NT 6.1; WOW64; rv:31.0) Gecko/20100101 Firefox/31.0', userId='30', Churn=0)]"
      ]
     },
     "execution_count": 17,
     "metadata": {},
     "output_type": "execute_result"
    }
   ],
   "source": [
    "data.take(1)"
   ]
  },
  {
   "cell_type": "code",
   "execution_count": 18,
   "metadata": {},
   "outputs": [
    {
     "data": {
      "text/html": [
       "<div>\n",
       "<style scoped>\n",
       "    .dataframe tbody tr th:only-of-type {\n",
       "        vertical-align: middle;\n",
       "    }\n",
       "\n",
       "    .dataframe tbody tr th {\n",
       "        vertical-align: top;\n",
       "    }\n",
       "\n",
       "    .dataframe thead th {\n",
       "        text-align: right;\n",
       "    }\n",
       "</style>\n",
       "<table border=\"1\" class=\"dataframe\">\n",
       "  <thead>\n",
       "    <tr style=\"text-align: right;\">\n",
       "      <th></th>\n",
       "      <th>avg_count_true</th>\n",
       "      <th>avg_count_false</th>\n",
       "    </tr>\n",
       "  </thead>\n",
       "  <tbody>\n",
       "    <tr>\n",
       "      <th>True</th>\n",
       "      <td>19.34</td>\n",
       "      <td>NaN</td>\n",
       "    </tr>\n",
       "    <tr>\n",
       "      <th>False</th>\n",
       "      <td>NaN</td>\n",
       "      <td>18.89172</td>\n",
       "    </tr>\n",
       "  </tbody>\n",
       "</table>\n",
       "</div>"
      ],
      "text/plain": [
       "       avg_count_true  avg_count_false\n",
       "True            19.34              NaN\n",
       "False             NaN         18.89172"
      ]
     },
     "execution_count": 18,
     "metadata": {},
     "output_type": "execute_result"
    }
   ],
   "source": [
    "#Find out the average number of ad clicks  \n",
    "avg_count_true = data.filter(\"page == 'Roll Advert' AND Churn == 1\").groupby(data.userId).count().agg(avg('count').alias('avg_count_true'))\n",
    "avg_count_true = avg_count_true.toPandas()\n",
    "avg_count_false = data.filter(\"page == 'Roll Advert' AND Churn == 0\").groupby(data.userId).count().agg(avg('count').alias('avg_count_false'))\n",
    "avg_count_false = avg_count_false.toPandas()\n",
    "avg_count = pd.concat([avg_count_true, avg_count_false], axis=0, ignore_index=True, sort=False)\n",
    "avg_count.index = ['True', 'False']\n",
    "avg_count"
   ]
  },
  {
   "cell_type": "code",
   "execution_count": 19,
   "metadata": {},
   "outputs": [
    {
     "data": {
      "image/png": "[encoded data removed]",
      "text/plain": [
       "<matplotlib.figure.Figure at 0x7fa7a22dc6d8>"
      ]
     },
     "metadata": {
      "needs_background": "light"
     },
     "output_type": "display_data"
    }
   ],
   "source": [
    "#Comparing the amount of clicked advertisements per person\n",
    "avg_count.plot.bar(title='Cancellation vs No Cancellation Ads',legend=False,colormap='summer',rot=True)\n",
    "plt.ylabel('avg_count');"
   ]
  },
  {
   "cell_type": "code",
   "execution_count": 20,
   "metadata": {},
   "outputs": [
    {
     "data": {
      "text/html": [
       "<div>\n",
       "<style scoped>\n",
       "    .dataframe tbody tr th:only-of-type {\n",
       "        vertical-align: middle;\n",
       "    }\n",
       "\n",
       "    .dataframe tbody tr th {\n",
       "        vertical-align: top;\n",
       "    }\n",
       "\n",
       "    .dataframe thead th {\n",
       "        text-align: right;\n",
       "    }\n",
       "</style>\n",
       "<table border=\"1\" class=\"dataframe\">\n",
       "  <thead>\n",
       "    <tr style=\"text-align: right;\">\n",
       "      <th></th>\n",
       "      <th>avg_count_true</th>\n",
       "      <th>avg_count_false</th>\n",
       "    </tr>\n",
       "  </thead>\n",
       "  <tbody>\n",
       "    <tr>\n",
       "      <th>True</th>\n",
       "      <td>19.34</td>\n",
       "      <td>NaN</td>\n",
       "    </tr>\n",
       "    <tr>\n",
       "      <th>False</th>\n",
       "      <td>NaN</td>\n",
       "      <td>18.89172</td>\n",
       "    </tr>\n",
       "  </tbody>\n",
       "</table>\n",
       "</div>"
      ],
      "text/plain": [
       "       avg_count_true  avg_count_false\n",
       "True            19.34              NaN\n",
       "False             NaN         18.89172"
      ]
     },
     "execution_count": 20,
     "metadata": {},
     "output_type": "execute_result"
    }
   ],
   "source": [
    "#Find out the average number of songs played\n",
    "avg_count_true_songs_played = data.filter(\"page == 'NextSong' AND Churn == 1\").groupby(data.userId).count().agg(avg('count').alias('avg_count_true'))\n",
    "avg_count_true_songs_played = avg_count_true_songs_played.toPandas()\n",
    "avg_count_false_songs_played = data.filter(\"page == 'NextSong' AND Churn == 0\").groupby(data.userId).count().agg(avg('count').alias('avg_count_false'))\n",
    "avg_count_false_songs_played = avg_count_false_songs_played.toPandas()\n",
    "avg_count_songs = pd.concat([avg_count_true_songs_played, avg_count_false_songs_played], axis=0, ignore_index=True, sort=False)\n",
    "avg_count_songs.index = ['True', 'False']\n",
    "avg_count"
   ]
  },
  {
   "cell_type": "code",
   "execution_count": 21,
   "metadata": {},
   "outputs": [
    {
     "data": {
      "image/png": "[encoded data removed]",
      "text/plain": [
       "<matplotlib.figure.Figure at 0x7fa7a22dc320>"
      ]
     },
     "metadata": {
      "needs_background": "light"
     },
     "output_type": "display_data"
    }
   ],
   "source": [
    "#Comparing the average number of songs played per person\n",
    "avg_count_songs.plot.bar(title='Cancellation vs Not Cancellation Songs Played', legend=False,rot=True,colormap='summer')\n",
    "plt.ylabel('avg_count');"
   ]
  },
  {
   "cell_type": "code",
   "execution_count": 22,
   "metadata": {},
   "outputs": [
    {
     "data": {
      "text/html": [
       "<div>\n",
       "<style scoped>\n",
       "    .dataframe tbody tr th:only-of-type {\n",
       "        vertical-align: middle;\n",
       "    }\n",
       "\n",
       "    .dataframe tbody tr th {\n",
       "        vertical-align: top;\n",
       "    }\n",
       "\n",
       "    .dataframe thead th {\n",
       "        text-align: right;\n",
       "    }\n",
       "</style>\n",
       "<table border=\"1\" class=\"dataframe\">\n",
       "  <thead>\n",
       "    <tr style=\"text-align: right;\">\n",
       "      <th></th>\n",
       "      <th>avg_count_true</th>\n",
       "      <th>avg_count_false</th>\n",
       "    </tr>\n",
       "  </thead>\n",
       "  <tbody>\n",
       "    <tr>\n",
       "      <th>True</th>\n",
       "      <td>5.55814</td>\n",
       "      <td>NaN</td>\n",
       "    </tr>\n",
       "    <tr>\n",
       "      <th>False</th>\n",
       "      <td>NaN</td>\n",
       "      <td>8.154362</td>\n",
       "    </tr>\n",
       "  </tbody>\n",
       "</table>\n",
       "</div>"
      ],
      "text/plain": [
       "       avg_count_true  avg_count_false\n",
       "True          5.55814              NaN\n",
       "False             NaN         8.154362"
      ]
     },
     "execution_count": 22,
     "metadata": {},
     "output_type": "execute_result"
    }
   ],
   "source": [
    "#Find out the average number of visits in Help page\n",
    "avg_count_true_help = data.filter(\"page == 'Help' AND Churn == 1\").groupby(data.userId).count().agg(avg('count').alias('avg_count_true'))\n",
    "avg_count_true_help = avg_count_true_help.toPandas()\n",
    "avg_count_false_help = data.filter(\"page == 'Help' AND Churn == 0\").groupby(data.userId).count().agg(avg('count').alias('avg_count_false'))\n",
    "avg_count_false_help = avg_count_false_help.toPandas()\n",
    "avg_count_help = pd.concat([avg_count_true_help, avg_count_false_help], axis=0, ignore_index=True, sort=False)\n",
    "avg_count_help.index = ['True', 'False']\n",
    "avg_count_help"
   ]
  },
  {
   "cell_type": "code",
   "execution_count": 23,
   "metadata": {},
   "outputs": [
    {
     "data": {
      "image/png": "[encoded data removed]",
      "text/plain": [
       "<matplotlib.figure.Figure at 0x7fa7a015d518>"
      ]
     },
     "metadata": {
      "needs_background": "light"
     },
     "output_type": "display_data"
    }
   ],
   "source": [
    "#Comparing the average number of visits in Help page\n",
    "avg_count_help.plot.bar(title='Cancellation vs Not cancellation in Help page', legend=False, rot=True,colormap='summer')\n",
    "plt.ylabel('avg_count');"
   ]
  },
  {
   "cell_type": "code",
   "execution_count": 24,
   "metadata": {},
   "outputs": [
    {
     "data": {
      "text/plain": [
       "<matplotlib.axes._subplots.AxesSubplot at 0x7fa7a232f2e8>"
      ]
     },
     "execution_count": 24,
     "metadata": {},
     "output_type": "execute_result"
    },
    {
     "data": {
      "image/png": "[encoded data removed]",
      "text/plain": [
       "<matplotlib.figure.Figure at 0x7fa7a01d8e10>"
      ]
     },
     "metadata": {
      "needs_background": "light"
     },
     "output_type": "display_data"
    }
   ],
   "source": [
    "#Comapring gender with churn\n",
    "gender = data.dropDuplicates(['userId']).groupby(['Churn', 'gender']).count()\n",
    "gender = gender.toPandas()\n",
    "gender.Churn = gender.Churn.replace([1, 0], ['True', 'False'])\n",
    "pd.DataFrame(pd.pivot_table(gender, index='Churn', columns='gender', values='count')).plot.bar(rot=True,colormap='summer')"
   ]
  },
  {
   "cell_type": "code",
   "execution_count": 25,
   "metadata": {},
   "outputs": [
    {
     "data": {
      "text/plain": [
       "<matplotlib.axes._subplots.AxesSubplot at 0x7fa7a012a400>"
      ]
     },
     "execution_count": 25,
     "metadata": {},
     "output_type": "execute_result"
    },
    {
     "data": {
      "image/png": "[encoded data removed]",
      "text/plain": [
       "<matplotlib.figure.Figure at 0x7fa7a010e780>"
      ]
     },
     "metadata": {
      "needs_background": "light"
     },
     "output_type": "display_data"
    }
   ],
   "source": [
    "#Comparing free/paid status with churn\n",
    "level = data.dropDuplicates(['userId']).groupby(['Churn', 'level']).count()\n",
    "level = level.toPandas()\n",
    "level.Churn = level.Churn.replace([1, 0], ['True', 'False'])\n",
    "pd.DataFrame(pd.pivot_table(level, index='Churn', columns='level', values='count')).plot.bar(rot=True,colormap='summer')"
   ]
  },
  {
   "cell_type": "markdown",
   "metadata": {},
   "source": [
    "# Feature Engineering\n",
    "Once you've familiarized yourself with the data, build out the features you find promising to train your model on. To work with the full dataset, you can follow the following steps.\n",
    "- Write a script to extract the necessary features from the smaller subset of data\n",
    "- Ensure that your script is scalable, using the best practices discussed in Lesson 3\n",
    "- Try your script on the full data set, debugging your script if necessary\n",
    "\n",
    "If you are working in the classroom workspace, you can just extract features based on the small subset of data contained here. Be sure to transfer over this work to the larger dataset when you work on your Spark cluster."
   ]
  },
  {
   "cell_type": "code",
   "execution_count": 26,
   "metadata": {},
   "outputs": [
    {
     "name": "stdout",
     "output_type": "stream",
     "text": [
      "root\n",
      " |-- artist: string (nullable = true)\n",
      " |-- auth: string (nullable = true)\n",
      " |-- firstName: string (nullable = true)\n",
      " |-- gender: string (nullable = true)\n",
      " |-- itemInSession: long (nullable = true)\n",
      " |-- lastName: string (nullable = true)\n",
      " |-- length: double (nullable = true)\n",
      " |-- level: string (nullable = true)\n",
      " |-- location: string (nullable = true)\n",
      " |-- method: string (nullable = true)\n",
      " |-- page: string (nullable = true)\n",
      " |-- registration: long (nullable = true)\n",
      " |-- sessionId: long (nullable = true)\n",
      " |-- song: string (nullable = true)\n",
      " |-- status: long (nullable = true)\n",
      " |-- ts: long (nullable = true)\n",
      " |-- userAgent: string (nullable = true)\n",
      " |-- userId: string (nullable = true)\n",
      " |-- Churn: integer (nullable = true)\n",
      "\n"
     ]
    }
   ],
   "source": [
    "data.printSchema()"
   ]
  },
  {
   "cell_type": "code",
   "execution_count": 27,
   "metadata": {},
   "outputs": [],
   "source": [
    "#Coverting categorical values to binary\n",
    "data = data.replace(['F', 'M'], ['0', '1'], 'gender')\n",
    "data = data.replace(['free', 'paid'], ['0', '1'], 'level')\n",
    "data = data.withColumn('gender', data.gender.cast('int'))\n",
    "data = data.withColumn('level', data.level.cast('int'))"
   ]
  },
  {
   "cell_type": "code",
   "execution_count": 28,
   "metadata": {},
   "outputs": [],
   "source": [
    "#Add feature Help to calculate how many Help pages each user clicked\n",
    "data_help = data.filter(data.page == 'Help').groupby('userId').agg(count('page').alias('Help')).select(['userId', 'Help'])\n",
    "data = data.join(data_help, 'userId')"
   ]
  },
  {
   "cell_type": "code",
   "execution_count": 29,
   "metadata": {},
   "outputs": [],
   "source": [
    "#Add feature Songs to calculate how many songs each user listened to\n",
    "data_songs = data.filter(data.page == 'NextSong').groupby('userId').agg(count('page').alias('Songs')).select(['userId', 'Songs'])\n",
    "data = data.join(data_songs, 'userId')"
   ]
  },
  {
   "cell_type": "code",
   "execution_count": 30,
   "metadata": {},
   "outputs": [],
   "source": [
    "#Add feature Ads to calculate how many ads each user clicked\n",
    "data_ads = data.filter(data.page == 'Roll Advert').groupby('userId').agg(count('page').alias('Ads')).select(['userId', 'Ads'])\n",
    "data = data.join(data_ads, 'userId')"
   ]
  },
  {
   "cell_type": "code",
   "execution_count": 31,
   "metadata": {},
   "outputs": [
    {
     "name": "stdout",
     "output_type": "stream",
     "text": [
      "root\n",
      " |-- userId: string (nullable = true)\n",
      " |-- artist: string (nullable = true)\n",
      " |-- auth: string (nullable = true)\n",
      " |-- firstName: string (nullable = true)\n",
      " |-- gender: integer (nullable = true)\n",
      " |-- itemInSession: long (nullable = true)\n",
      " |-- lastName: string (nullable = true)\n",
      " |-- length: double (nullable = true)\n",
      " |-- level: integer (nullable = true)\n",
      " |-- location: string (nullable = true)\n",
      " |-- method: string (nullable = true)\n",
      " |-- page: string (nullable = true)\n",
      " |-- registration: long (nullable = true)\n",
      " |-- sessionId: long (nullable = true)\n",
      " |-- song: string (nullable = true)\n",
      " |-- status: long (nullable = true)\n",
      " |-- ts: long (nullable = true)\n",
      " |-- userAgent: string (nullable = true)\n",
      " |-- Churn: integer (nullable = true)\n",
      " |-- Help: long (nullable = false)\n",
      " |-- Songs: long (nullable = false)\n",
      " |-- Ads: long (nullable = false)\n",
      "\n"
     ]
    }
   ],
   "source": [
    "data.printSchema()"
   ]
  },
  {
   "cell_type": "code",
   "execution_count": 32,
   "metadata": {},
   "outputs": [
    {
     "data": {
      "text/plain": [
       "Row(userId='100010', artist='Sleeping With Sirens', auth='Logged In', firstName='Darianna', gender=0, itemInSession=0, lastName='Carpenter', length=202.97098, level=0, location='Bridgeport-Stamford-Norwalk, CT', method='PUT', page='NextSong', registration=1538016340000, sessionId=31, song='Captain Tyin Knots VS Mr Walkway (No Way)', status=200, ts=1539003534000, userAgent='\"Mozilla/5.0 (iPhone; CPU iPhone OS 7_1_2 like Mac OS X) AppleWebKit/537.51.2 (KHTML, like Gecko) Version/7.0 Mobile/11D257 Safari/9537.53\"', Churn=0, Help=2, Songs=275, Ads=52)"
      ]
     },
     "execution_count": 32,
     "metadata": {},
     "output_type": "execute_result"
    }
   ],
   "source": [
    "data.head()"
   ]
  },
  {
   "cell_type": "code",
   "execution_count": 33,
   "metadata": {},
   "outputs": [],
   "source": [
    "#Dataset used for training model\n",
    "data_model = data.select(['userId', 'Ads', 'Songs', 'Help', 'level', 'gender', 'Churn'])"
   ]
  },
  {
   "cell_type": "code",
   "execution_count": 34,
   "metadata": {},
   "outputs": [
    {
     "name": "stdout",
     "output_type": "stream",
     "text": [
      "root\n",
      " |-- userId: string (nullable = true)\n",
      " |-- Ads: long (nullable = false)\n",
      " |-- Songs: long (nullable = false)\n",
      " |-- Help: long (nullable = false)\n",
      " |-- level: integer (nullable = true)\n",
      " |-- gender: integer (nullable = true)\n",
      " |-- Churn: integer (nullable = true)\n",
      "\n"
     ]
    }
   ],
   "source": [
    "data_model.printSchema()"
   ]
  },
  {
   "cell_type": "code",
   "execution_count": 35,
   "metadata": {},
   "outputs": [
    {
     "data": {
      "text/plain": [
       "Row(userId='100010', Ads=52, Songs=275, Help=2, level=0, gender=0, Churn=0)"
      ]
     },
     "execution_count": 35,
     "metadata": {},
     "output_type": "execute_result"
    }
   ],
   "source": [
    "data_model.head()"
   ]
  },
  {
   "cell_type": "markdown",
   "metadata": {},
   "source": [
    "# Modeling\n",
    "Split the full dataset into train, test, and validation sets. Test out several of the machine learning methods you learned. Evaluate the accuracy of the various models, tuning parameters as necessary. Determine your winning model based on test accuracy and report results on the validation set. Since the churned users are a fairly small subset, I suggest using F1 score as the metric to optimize."
   ]
  },
  {
   "cell_type": "code",
   "execution_count": 36,
   "metadata": {},
   "outputs": [],
   "source": [
    "#Splitting data into train and test set\n",
    "train, test = data_model.randomSplit([0.8, 0.2], seed=42)"
   ]
  },
  {
   "cell_type": "code",
   "execution_count": 37,
   "metadata": {},
   "outputs": [],
   "source": [
    "#Pipeline Stages\n",
    "assembler = VectorAssembler(inputCols=data_model.columns[1:6], outputCol='FeaturesVector')\n",
    "scaler = StandardScaler(inputCol='FeaturesVector', outputCol='features', withStd=True, withMean=True)\n",
    "indexer = StringIndexer(inputCol='Churn', outputCol='label')"
   ]
  },
  {
   "cell_type": "code",
   "execution_count": 38,
   "metadata": {},
   "outputs": [],
   "source": [
    "#Creating logistic regression pipeline\n",
    "lr = LogisticRegression(maxIter=10, regParam=0.0, elasticNetParam=0)\n",
    "pipeline = Pipeline(stages=[assembler, scaler, indexer, lr])"
   ]
  },
  {
   "cell_type": "code",
   "execution_count": 39,
   "metadata": {},
   "outputs": [],
   "source": [
    "#Setting parametets\n",
    "paramGrid = ParamGridBuilder() \\\n",
    "    .addGrid(lr.regParam, [0.0, 0.2]) \\\n",
    "    .addGrid(lr.maxIter, [10, 20]) \\\n",
    "    .addGrid(lr.threshold, [0.44, 0.46]) \\\n",
    "    .build()\n",
    "\n",
    "#Crossvalidation\n",
    "crossval_lr = CrossValidator(estimator=pipeline,\n",
    "                          estimatorParamMaps=paramGrid,\n",
    "                          evaluator=MulticlassClassificationEvaluator(),\n",
    "                          numFolds=3)"
   ]
  },
  {
   "cell_type": "code",
   "execution_count": 40,
   "metadata": {},
   "outputs": [],
   "source": [
    "#Training logistic regression model\n",
    "model_lr = crossval_lr.fit(train)"
   ]
  },
  {
   "cell_type": "code",
   "execution_count": 41,
   "metadata": {},
   "outputs": [
    {
     "data": {
      "text/plain": [
       "[0.7846396416057526,\n",
       " 0.7812815847428474,\n",
       " 0.7840716158070482,\n",
       " 0.7812815847428474,\n",
       " 0.7724723874499535,\n",
       " 0.7724723874499535,\n",
       " 0.7724723874499535,\n",
       " 0.7724723874499535]"
      ]
     },
     "execution_count": 41,
     "metadata": {},
     "output_type": "execute_result"
    }
   ],
   "source": [
    "model_lr.avgMetrics"
   ]
  },
  {
   "cell_type": "code",
   "execution_count": 42,
   "metadata": {},
   "outputs": [],
   "source": [
    "#Predciting on test set\n",
    "results_lr = model_lr.transform(test)"
   ]
  },
  {
   "cell_type": "code",
   "execution_count": 43,
   "metadata": {},
   "outputs": [
    {
     "data": {
      "text/plain": [
       "0.7807969583843655"
      ]
     },
     "execution_count": 43,
     "metadata": {},
     "output_type": "execute_result"
    }
   ],
   "source": [
    "#Get F1 score\n",
    "MulticlassClassificationEvaluator(metricName='f1').evaluate(results_lr)"
   ]
  },
  {
   "cell_type": "code",
   "execution_count": 44,
   "metadata": {},
   "outputs": [
    {
     "data": {
      "text/plain": [
       "[Row(prediction=0.0), Row(prediction=1.0)]"
      ]
     },
     "execution_count": 44,
     "metadata": {},
     "output_type": "execute_result"
    }
   ],
   "source": [
    "results_lr.select('prediction').dropDuplicates().collect()"
   ]
  },
  {
   "cell_type": "markdown",
   "metadata": {},
   "source": [
    "The first prediction parameter is only regParam, and the result labels are all 0. The second time I added too many parameters and it was too slow, so I reduced it, but the result was still 0. The third time, I think there might be a problem with the threshold value. The default is 0.5. I adjusted it down a bit and tried it, but the adjustment was too low, which resulted in overfitting the results. Finally, after adjusting to the appropriate parameters, the result was better."
   ]
  },
  {
   "cell_type": "code",
   "execution_count": 45,
   "metadata": {},
   "outputs": [],
   "source": [
    "#Creating the random forest pipeline\n",
    "rf = RandomForestClassifier(numTrees=5, maxDepth=3, seed=30)\n",
    "pipeline = Pipeline(stages=[assembler, scaler, indexer, rf])"
   ]
  },
  {
   "cell_type": "code",
   "execution_count": 46,
   "metadata": {},
   "outputs": [],
   "source": [
    "#Setting parameters\n",
    "paramGrid = ParamGridBuilder() \\\n",
    "    .addGrid(rf.numTrees, [5, 10]) \\\n",
    "    .addGrid(rf.minInstancesPerNode, [1, 3]) \\\n",
    "    .addGrid(rf.maxDepth, [3, 7]) \\\n",
    "    .addGrid(rf.minInfoGain, [0, 1]) \\\n",
    "    .build()\n",
    "\n",
    "#Crossvalidation\n",
    "crossval_rf = CrossValidator(estimator=pipeline,\n",
    "                          estimatorParamMaps=paramGrid,\n",
    "                          evaluator=MulticlassClassificationEvaluator(),\n",
    "                          numFolds=3)"
   ]
  },
  {
   "cell_type": "code",
   "execution_count": 47,
   "metadata": {},
   "outputs": [],
   "source": [
    "#Training random forest model\n",
    "model_rf = crossval_rf.fit(train)"
   ]
  },
  {
   "cell_type": "code",
   "execution_count": 48,
   "metadata": {},
   "outputs": [
    {
     "data": {
      "text/plain": [
       "[0.7847751465178989,\n",
       " 0.7724723874499535,\n",
       " 0.9322419410209905,\n",
       " 0.7724723874499535,\n",
       " 0.7847751465178989,\n",
       " 0.7724723874499535,\n",
       " 0.9322419410209905,\n",
       " 0.7724723874499535,\n",
       " 0.8094186876123541,\n",
       " 0.7724723874499535,\n",
       " 0.9288514330093214,\n",
       " 0.7724723874499535,\n",
       " 0.8094186876123541,\n",
       " 0.7724723874499535,\n",
       " 0.9288514330093214,\n",
       " 0.7724723874499535]"
      ]
     },
     "execution_count": 48,
     "metadata": {},
     "output_type": "execute_result"
    }
   ],
   "source": [
    "model_rf.avgMetrics"
   ]
  },
  {
   "cell_type": "code",
   "execution_count": 49,
   "metadata": {},
   "outputs": [],
   "source": [
    "#Predciting on test set\n",
    "results_rf = model_rf.transform(test)"
   ]
  },
  {
   "cell_type": "code",
   "execution_count": 50,
   "metadata": {},
   "outputs": [
    {
     "data": {
      "text/plain": [
       "0.9087860053077775"
      ]
     },
     "execution_count": 50,
     "metadata": {},
     "output_type": "execute_result"
    }
   ],
   "source": [
    "#Get F1 score\n",
    "MulticlassClassificationEvaluator(metricName='f1').evaluate(results_rf)"
   ]
  },
  {
   "cell_type": "code",
   "execution_count": 51,
   "metadata": {},
   "outputs": [
    {
     "data": {
      "text/plain": [
       "[Row(prediction=0.0), Row(prediction=1.0)]"
      ]
     },
     "execution_count": 51,
     "metadata": {},
     "output_type": "execute_result"
    }
   ],
   "source": [
    "results_rf.select('prediction').dropDuplicates().collect()"
   ]
  },
  {
   "cell_type": "code",
   "execution_count": 52,
   "metadata": {},
   "outputs": [],
   "source": [
    "result_rf = results_rf.select(['label', 'prediction']).toPandas()"
   ]
  },
  {
   "cell_type": "code",
   "execution_count": 53,
   "metadata": {},
   "outputs": [
    {
     "data": {
      "text/plain": [
       "label         52182\n",
       "prediction    52182\n",
       "dtype: int64"
      ]
     },
     "execution_count": 53,
     "metadata": {},
     "output_type": "execute_result"
    }
   ],
   "source": [
    "result_rf.count()"
   ]
  },
  {
   "cell_type": "code",
   "execution_count": 54,
   "metadata": {},
   "outputs": [
    {
     "data": {
      "text/plain": [
       "label         48022\n",
       "prediction    48022\n",
       "dtype: int64"
      ]
     },
     "execution_count": 54,
     "metadata": {},
     "output_type": "execute_result"
    }
   ],
   "source": [
    "result_rf[result_rf['label'] == result_rf['prediction']].count()"
   ]
  },
  {
   "cell_type": "markdown",
   "metadata": {},
   "source": [
    "Too many parameters were added for the first time: numTrees, minInstancesPerNode, maxDepth, minInfoGain, and the amount of parameters was large, which caused the model to run too slowly. Then I canceled a minInfoGain parameter, but the result label of the second time was all 0, so I adjusted the parameter name as the first time, but adjusted the minInfoGain to 0 and 1 respectively, and minInstancesPerNode to 1 and 1 respectively. 3. I adjusted the numTrees and maxDepth separately to make the model run faster, and the results were pretty good."
   ]
  },
  {
   "cell_type": "code",
   "execution_count": 55,
   "metadata": {},
   "outputs": [
    {
     "name": "stdout",
     "output_type": "stream",
     "text": [
      "The best model is the random forest classifier model, and the best parameters are：\n",
      "numTrees:5\n",
      "minInstancesPerNode:1\n",
      "maxDepth:7\n",
      "minInfoGain:0.0\n"
     ]
    }
   ],
   "source": [
    "metric = model_rf.avgMetrics\n",
    "best_index = metric.index(max(metric))\n",
    "best_param = model_rf.getEstimatorParamMaps()[best_index]\n",
    "print('The best model is the random forest classifier model, and the best parameters are：')\n",
    "for name, score in best_param.items():\n",
    "    print('{}:{}'.format(name.name, score))"
   ]
  },
  {
   "cell_type": "markdown",
   "metadata": {},
   "source": [
    "## Results discussion"
   ]
  },
  {
   "cell_type": "markdown",
   "metadata": {},
   "source": [
    "The problem in this project is to predict the loss of users, which is a binary classification prediction problem, so the selected model will fit this feature. I used the random forest classifier and logistic regression classifier The best effect is the random forest classifier. The F1 score is 0.91. First, I cleaned the data set, and then explored the data set using EDA. I used Feature engineering, and finally build a machine learning model to predict. The random forest classifier is specifically used to solve classification and regression problems, and can handle both classification and numerical features and has strong resistance to overfitting. I think this is also a manifestation of good performance in both the training set and the test set. However, more accuracy can be achieved by running the model on the original dataset, which is 12GB in size. It will require AWS/IBMCloud or other providers. Running models on this machine is limited by hardware, and adjusting parameters becomes more difficult. If these aspects can be improved, I think the result will be better."
   ]
  },
  {
   "cell_type": "markdown",
   "metadata": {},
   "source": [
    "## Difficulties and Challenges"
   ]
  },
  {
   "cell_type": "markdown",
   "metadata": {},
   "source": [
    "There are many algorithms that can be used when building the model. But after I tested a lot of models, I found that some models have errors that are difficult to solve. For example, when I use the NaiveBayes model, I have a complex error. It is difficult to find a solution, which is related to the software version number. At this time, it is necessary to change a model. In addition, when adjusting the parameters, the initial parameters caused the training to be very slow. Later, after searching and in-depth understanding of each parameter on the Internet, it was difficult to optimize the parameters. This step is more difficult because it involves time costs. Also, when visualizing, I need to convert the columns of a pandas data frame into rows and then directly into the histogram I want."
   ]
  },
  {
   "cell_type": "markdown",
   "metadata": {},
   "source": [
    "## Reflection"
   ]
  },
  {
   "cell_type": "markdown",
   "metadata": {},
   "source": [
    "When I used a bar chart to compare the per-user help page clicks of users, I found something interesting. The results show that the churn user's per capita help clicks are much less than those of non-churn users. I started telling me that the fewer clicks on the help page should mean that the fewer problems you encounter, the better the software experience. Then why is there less user clicks than retained users? I thought about it carefully. It may because the churn users found the help page confusing. "
   ]
  },
  {
   "cell_type": "markdown",
   "metadata": {},
   "source": [
    "# Final Steps\n",
    "Clean up your code, adding comments and renaming variables to make the code easier to read and maintain. Refer to the Spark Project Overview page and Data Scientist Capstone Project Rubric to make sure you are including all components of the capstone project and meet all expectations. Remember, this includes thorough documentation in a README file in a Github repository, as well as a web app or blog post."
   ]
  },
  {
   "cell_type": "code",
   "execution_count": null,
   "metadata": {},
   "outputs": [],
   "source": []
  }
 ],
 "metadata": {
  "kernelspec": {
   "display_name": "Python 3",
   "language": "python",
   "name": "python3"
  },
  "language_info": {
   "codemirror_mode": {
    "name": "ipython",
    "version": 3
   },
   "file_extension": ".py",
   "mimetype": "text/x-python",
   "name": "python",
   "nbconvert_exporter": "python",
   "pygments_lexer": "ipython3",
   "version": "3.6.3"
  }
 },
 "nbformat": 4,
 "nbformat_minor": 2
}
